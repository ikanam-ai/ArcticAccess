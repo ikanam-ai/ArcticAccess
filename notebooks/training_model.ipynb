{
 "cells": [
  {
   "cell_type": "code",
   "execution_count": 5,
   "metadata": {},
   "outputs": [
    {
     "name": "stderr",
     "output_type": "stream",
     "text": [
      "C:\\Users\\fktrc\\AppData\\Local\\Packages\\PythonSoftwareFoundation.Python.3.9_qbz5n2kfra8p0\\LocalCache\\local-packages\\Python39\\site-packages\\tqdm\\auto.py:21: TqdmWarning: IProgress not found. Please update jupyter and ipywidgets. See https://ipywidgets.readthedocs.io/en/stable/user_install.html\n",
      "  from .autonotebook import tqdm as notebook_tqdm\n"
     ]
    }
   ],
   "source": [
    "import torch\n",
    "import torch.nn as nn\n",
    "import torch.optim as optim\n",
    "model = ModelfClassification(10)\n",
    "criterion = nn.MSELoss()  # Используем RMSE как функцию потери\n",
    "# Определение оптимизатора\n",
    "optimizer = optim.Adam(model.parameters(), lr=0.001)\n",
    "scheduler = optim.lr_scheduler.StepLR(optimizer, step_size=10, gamma=0.5)"
   ]
  },
  {
   "cell_type": "code",
   "execution_count": 6,
   "metadata": {},
   "outputs": [
    {
     "ename": "NameError",
     "evalue": "name 'Dataset' is not defined",
     "output_type": "error",
     "traceback": [
      "\u001b[1;31m---------------------------------------------------------------------------\u001b[0m",
      "\u001b[1;31mNameError\u001b[0m                                 Traceback (most recent call last)",
      "Cell \u001b[1;32mIn[6], line 1\u001b[0m\n\u001b[1;32m----> 1\u001b[0m \u001b[38;5;28;01mclass\u001b[39;00m \u001b[38;5;21;01mCustomDataset\u001b[39;00m(\u001b[43mDataset\u001b[49m):\n\u001b[0;32m      2\u001b[0m     \u001b[38;5;28;01mdef\u001b[39;00m \u001b[38;5;21m__init__\u001b[39m(\u001b[38;5;28mself\u001b[39m, x, y):\n\u001b[0;32m      3\u001b[0m         \u001b[38;5;28mself\u001b[39m\u001b[38;5;241m.\u001b[39mx \u001b[38;5;241m=\u001b[39m x\n",
      "\u001b[1;31mNameError\u001b[0m: name 'Dataset' is not defined"
     ]
    }
   ],
   "source": [
    "from torch.utils.data import Dataset\n",
    "class CustomDataset(Dataset):\n",
    "    def __init__(self, x, y):\n",
    "        self.x = x\n",
    "        self.y = y\n",
    "\n",
    "    def __len__(self):\n",
    "        return len(self.x)\n",
    "\n",
    "    def __getitem__(self, idx):\n",
    "        sample = {'x': self.x[idx], 'y': self.y[idx]}\n",
    "        return sample\n",
    "\n",
    "# Загрузка данных из файлов .npy\n",
    "y_smp_train = np.load('y_smp_train.npy')\n",
    "pars_smp_train = np.load('pars_smp_train.npy')\n",
    "\n",
    "# # Разделение данных на тренировочные и тестовые выборки\n",
    "# X_train, X_test, y_train, y_test = train_test_split(y_smp_train, pars_smp_train, test_size=0.2, random_state=42)\n",
    "\n",
    "# # Преобразование данных в тензоры PyTorch и перемещение на GPU\n",
    "# X_train = torch.tensor(X_train, dtype=torch.float32).to(device)\n",
    "# y_train = torch.tensor(y_train, dtype=torch.float32).to(device)\n",
    "\n",
    "# X_test = torch.tensor(X_test, dtype=torch.float32).to(device)\n",
    "# y_test = torch.tensor(y_test, dtype=torch.float32).to(device)\n",
    "\n",
    "y_smp_train = torch.tensor(y_smp_train, dtype=torch.float32).to(device)\n",
    "pars_smp_train = torch.tensor(pars_smp_train, dtype=torch.float32).to(device)\n",
    "\n",
    "pars_smp_train = pars_smp_train.reshape(pars_smp_train.shape[0], -1)\n",
    "\n",
    "# Создание экземпляра CustomDataset для тренировочных и тестовых данных\n",
    "# train_dataset = CustomDataset(X_train, y_train)\n",
    "# test_dataset = CustomDataset(X_test, y_test)\n",
    "full_dataset = CustomDataset(y_smp_train, pars_smp_train)\n",
    "\n",
    "# Создание DataLoader для тренировочных и тестовых данных\n",
    "batch_size = 20\n",
    "# train_loader = DataLoader(train_dataset, batch_size=batch_size, shuffle=True)\n",
    "# test_loader = DataLoader(test_dataset, batch_size=batch_size)\n",
    "full_loader = DataLoader(full_dataset, batch_size=batch_size)\n"
   ]
  },
  {
   "cell_type": "code",
   "execution_count": 7,
   "metadata": {},
   "outputs": [],
   "source": [
    "def train_model(model, train_loader, criterion, optimizer, num_epochs, scheduler):\n",
    "    model.train()\n",
    "    train_losses = []\n",
    "\n",
    "    for epoch in range(num_epochs):\n",
    "        epoch_losses = []\n",
    "        for batch in tqdm(train_loader, desc=f'Epoch {epoch + 1}/{num_epochs}'):  # Используем tqdm\n",
    "            input_data, target_data = batch['x'], batch['y'].reshape(batch['y'].shape[0], 15)\n",
    "            output = model(input_data)\n",
    "            loss = criterion(output, target_data)\n",
    "            loss = torch.sqrt(loss)\n",
    "            optimizer.zero_grad()\n",
    "            loss.backward()\n",
    "            optimizer.step()\n",
    "            epoch_losses.append(loss.item())\n",
    "\n",
    "        scheduler.step()\n",
    "        # Отображение графика потерь после каждого батча\n",
    "        plt.plot(epoch_losses)\n",
    "        plt.xlabel('Batch')\n",
    "        plt.ylabel('Loss')\n",
    "        plt.title('Training Loss for Batch')\n",
    "        plt.show()\n",
    "\n",
    "        train_losses.extend(epoch_losses)\n",
    "\n",
    "    return train_losses\n"
   ]
  },
  {
   "cell_type": "code",
   "execution_count": 8,
   "metadata": {},
   "outputs": [
    {
     "ename": "NameError",
     "evalue": "name 'full_loader' is not defined",
     "output_type": "error",
     "traceback": [
      "\u001b[1;31m---------------------------------------------------------------------------\u001b[0m",
      "\u001b[1;31mNameError\u001b[0m                                 Traceback (most recent call last)",
      "Cell \u001b[1;32mIn[8], line 1\u001b[0m\n\u001b[1;32m----> 1\u001b[0m train_model(model, \u001b[43mfull_loader\u001b[49m, criterion, optimizer, \u001b[38;5;241m50\u001b[39m, scheduler)\n",
      "\u001b[1;31mNameError\u001b[0m: name 'full_loader' is not defined"
     ]
    }
   ],
   "source": [
    "train_model(model, full_loader, criterion, optimizer, 50, scheduler)"
   ]
  },
  {
   "cell_type": "code",
   "execution_count": null,
   "metadata": {},
   "outputs": [],
   "source": []
  }
 ],
 "metadata": {
  "kernelspec": {
   "display_name": "base",
   "language": "python",
   "name": "python3"
  },
  "language_info": {
   "codemirror_mode": {
    "name": "ipython",
    "version": 3
   },
   "file_extension": ".py",
   "mimetype": "text/x-python",
   "name": "python",
   "nbconvert_exporter": "python",
   "pygments_lexer": "ipython3",
   "version": "3.9.13"
  }
 },
 "nbformat": 4,
 "nbformat_minor": 2
}
