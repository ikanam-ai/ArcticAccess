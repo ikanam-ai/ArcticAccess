{
 "cells": [
  {
   "cell_type": "code",
   "execution_count": null,
   "metadata": {},
   "outputs": [],
   "source": [
    "import torch\n",
    "import torch.nn as nn\n",
    "import torch.optim as optim\n",
    "model = ModelfClassification(10)\n",
    "criterion = nn.MSELoss()  \n",
    "optimizer = optim.Adam(model.parameters(), lr=0.001)\n",
    "scheduler = optim.lr_scheduler.StepLR(optimizer, step_size=10, gamma=0.5)"
   ]
  },
  {
   "cell_type": "code",
   "execution_count": null,
   "metadata": {},
   "outputs": [],
   "source": [
    "from torch.utils.data import Dataset\n",
    "class CustomDataset(Dataset):\n",
    "    def __init__(self, x, y):\n",
    "        self.x = x\n",
    "        self.y = y\n",
    "\n",
    "    def __len__(self):\n",
    "        return len(self.x)\n",
    "\n",
    "    def __getitem__(self, idx):\n",
    "        sample = {'x': self.x[idx], 'y': self.y[idx]}\n",
    "        return sample\n",
    "\n",
    "y_smp_train = np.load('y_smp_train.npy')\n",
    "pars_smp_train = np.load('pars_smp_train.npy')\n",
    "\n",
    "y_smp_train = torch.tensor(y_smp_train, dtype=torch.float32).to(device)\n",
    "pars_smp_train = torch.tensor(pars_smp_train, dtype=torch.float32).to(device)\n",
    "\n",
    "pars_smp_train = pars_smp_train.reshape(pars_smp_train.shape[0], -1)\n",
    "\n",
    "# Создание экземпляра CustomDataset для тренировочных и тестовых данных\n",
    "\n",
    "full_dataset = CustomDataset(y_smp_train, pars_smp_train)\n",
    "\n",
    "# Создание DataLoader для тренировочных и тестовых данных\n",
    "batch_size = 20\n",
    "full_loader = DataLoader(full_dataset, batch_size=batch_size)\n"
   ]
  },
  {
   "cell_type": "code",
   "execution_count": null,
   "metadata": {},
   "outputs": [],
   "source": [
    "def train_model(model, train_loader, criterion, optimizer, num_epochs, scheduler):\n",
    "    model.train()\n",
    "    train_losses = []\n",
    "\n",
    "    for epoch in range(num_epochs):\n",
    "        epoch_losses = []\n",
    "        for batch in tqdm(train_loader, desc=f'Epoch {epoch + 1}/{num_epochs}'):  # Используем tqdm\n",
    "            input_data, target_data = batch['x'], batch['y'].reshape(batch['y'].shape[0], 15)\n",
    "            output = model(input_data)\n",
    "            loss = criterion(output, target_data)\n",
    "            loss = torch.sqrt(loss)\n",
    "            optimizer.zero_grad()\n",
    "            loss.backward()\n",
    "            optimizer.step()\n",
    "            epoch_losses.append(loss.item())\n",
    "\n",
    "        scheduler.step()\n",
    "        # Отображение графика потерь после каждого батча\n",
    "        plt.plot(epoch_losses)\n",
    "        plt.xlabel('Batch')\n",
    "        plt.ylabel('Loss')\n",
    "        plt.title('Training Loss for Batch')\n",
    "        plt.show()\n",
    "\n",
    "        train_losses.extend(epoch_losses)\n",
    "\n",
    "    return train_losses\n"
   ]
  },
  {
   "cell_type": "code",
   "execution_count": null,
   "metadata": {},
   "outputs": [],
   "source": [
    "train_model(model, full_loader, criterion, optimizer, 50, scheduler)"
   ]
  }
 ],
 "metadata": {
  "kernelspec": {
   "display_name": "Python 3 (ipykernel)",
   "language": "python",
   "name": "python3"
  },
  "language_info": {
   "codemirror_mode": {
    "name": "ipython",
    "version": 3
   },
   "file_extension": ".py",
   "mimetype": "text/x-python",
   "name": "python",
   "nbconvert_exporter": "python",
   "pygments_lexer": "ipython3",
   "version": "3.9.12"
  }
 },
 "nbformat": 4,
 "nbformat_minor": 2
}
